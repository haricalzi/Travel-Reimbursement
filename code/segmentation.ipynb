{
 "cells": [
  {
   "cell_type": "markdown",
   "id": "75bb5409",
   "metadata": {},
   "source": [
    "# Segmentation of datasets"
   ]
  },
  {
   "cell_type": "code",
   "execution_count": 1,
   "id": "bee92eda",
   "metadata": {},
   "outputs": [],
   "source": [
    "import pm4py"
   ]
  },
  {
   "cell_type": "code",
   "execution_count": 2,
   "id": "8bbf442d",
   "metadata": {},
   "outputs": [
    {
     "data": {
      "application/vnd.jupyter.widget-view+json": {
       "model_id": "a49967eee4df409aa516b308b0ccf777",
       "version_major": 2,
       "version_minor": 0
      },
      "text/plain": [
       "parsing log, completed traces ::   0%|          | 0/1548 [00:00<?, ?it/s]"
      ]
     },
     "metadata": {},
     "output_type": "display_data"
    }
   ],
   "source": [
    "# Load the XES file and convert it to a DataFrame\n",
    "xes_filename = '../datasets_cleaned/PrepaidTravelCost_cleaned.xes'\n",
    "log = pm4py.read_xes(xes_filename)\n",
    "df_PTC = pm4py.convert_to_dataframe(log)"
   ]
  },
  {
   "cell_type": "code",
   "execution_count": 3,
   "id": "4afb5584",
   "metadata": {},
   "outputs": [
    {
     "name": "stdout",
     "output_type": "stream",
     "text": [
      "Frequency of some attributes for Prepaid Travel Cost (PTC):\n",
      "\n",
      "org:resource\n",
      "STAFF MEMBER    9899\n",
      "SYSTEM          3096\n",
      "Name: count, dtype: int64\n",
      "\n",
      " org:role\n",
      "UNDEFINED         3096\n",
      "EMPLOYEE          3025\n",
      "SUPERVISOR        2919\n",
      "ADMINISTRATION    2634\n",
      "BUDGET OWNER       915\n",
      "DIRECTOR           226\n",
      "PRE_APPROVER       180\n",
      "Name: count, dtype: int64\n",
      "\n",
      " case:Project\n",
      "project 503       12458\n",
      "project 147556       81\n",
      "project 148052       50\n",
      "project 147546       46\n",
      "project 147620       46\n",
      "project 147531       44\n",
      "project 147649       39\n",
      "project 151278       33\n",
      "project 147860       28\n",
      "project 147582       22\n",
      "project 147551       16\n",
      "project 148681       15\n",
      "project 152803       15\n",
      "project 147701       15\n",
      "project 150197       12\n",
      "project 147572       11\n",
      "project 150968       11\n",
      "project 156832        6\n",
      "project 155217        6\n",
      "project 147908        6\n",
      "project 151211        5\n",
      "project 148309        5\n",
      "project 147843        5\n",
      "project 148982        5\n",
      "project 164433        5\n",
      "project 155098        5\n",
      "project 149147        5\n",
      "Name: count, dtype: int64\n"
     ]
    }
   ],
   "source": [
    "# Frequency of some attributes for Prepaid Travel Cost (PTC)\n",
    "print(\"Frequency of some attributes for Prepaid Travel Cost (PTC):\\n\")\n",
    "\n",
    "resource_counts = df_PTC['org:resource'].value_counts()\n",
    "print(resource_counts)\n",
    "\n",
    "role_counts = df_PTC['org:role'].value_counts()\n",
    "print(\"\\n\",role_counts)\n",
    "\n",
    "project_counts = df_PTC['case:Project'].value_counts()\n",
    "print(\"\\n\",project_counts)"
   ]
  },
  {
   "cell_type": "code",
   "execution_count": 4,
   "id": "5791f3aa",
   "metadata": {},
   "outputs": [
    {
     "data": {
      "application/vnd.jupyter.widget-view+json": {
       "model_id": "c81c2c3c2466491bbda0e7264f7da95c",
       "version_major": 2,
       "version_minor": 0
      },
      "text/plain": [
       "parsing log, completed traces ::   0%|          | 0/6039 [00:00<?, ?it/s]"
      ]
     },
     "metadata": {},
     "output_type": "display_data"
    }
   ],
   "source": [
    "# Load the XES file and convert it to a DataFrame\n",
    "xes_filename = '../datasets_cleaned/RequestForPayments_cleaned.xes'\n",
    "log = pm4py.read_xes(xes_filename)\n",
    "df_RFP = pm4py.convert_to_dataframe(log)"
   ]
  },
  {
   "cell_type": "code",
   "execution_count": 5,
   "id": "30b7a9cf",
   "metadata": {},
   "outputs": [
    {
     "name": "stdout",
     "output_type": "stream",
     "text": [
      "Frequency of some attributes for Request For Payments (RFP):\n",
      "\n",
      "org:resource\n",
      "STAFF MEMBER    19296\n",
      "SYSTEM          11392\n",
      "Name: count, dtype: int64\n",
      "\n",
      " org:role\n",
      "UNDEFINED         11392\n",
      "EMPLOYEE           6382\n",
      "SUPERVISOR         5696\n",
      "ADMINISTRATION     5116\n",
      "BUDGET OWNER       1762\n",
      "PRE_APPROVER        340\n",
      "Name: count, dtype: int64\n",
      "\n",
      " case:Project\n",
      "project 147546    5034\n",
      "project 147556    4545\n",
      "project 503       4140\n",
      "project 148052    1417\n",
      "project 147620    1371\n",
      "                  ... \n",
      "project 163222       5\n",
      "project 156726       5\n",
      "project 175526       5\n",
      "project 156832       5\n",
      "project 157566       5\n",
      "Name: count, Length: 77, dtype: int64\n"
     ]
    }
   ],
   "source": [
    "# Frequency of some attributes for Request For Payments (RFP)\n",
    "print(\"Frequency of some attributes for Request For Payments (RFP):\\n\")\n",
    "\n",
    "resource_counts = df_RFP['org:resource'].value_counts()\n",
    "print(resource_counts)\n",
    "\n",
    "role_counts = df_RFP['org:role'].value_counts()\n",
    "print(\"\\n\",role_counts)\n",
    "\n",
    "project_counts = df_RFP['case:Project'].value_counts()\n",
    "print(\"\\n\",project_counts)"
   ]
  },
  {
   "cell_type": "code",
   "execution_count": 6,
   "id": "f2a78407",
   "metadata": {},
   "outputs": [
    {
     "data": {
      "application/vnd.jupyter.widget-view+json": {
       "model_id": "d3c793d9f07f45b5a1439f71c73cd6d9",
       "version_major": 2,
       "version_minor": 0
      },
      "text/plain": [
       "parsing log, completed traces ::   0%|          | 0/4457 [00:00<?, ?it/s]"
      ]
     },
     "metadata": {},
     "output_type": "display_data"
    }
   ],
   "source": [
    "# Load the XES file and convert it to a DataFrame\n",
    "xes_filename = '../datasets_cleaned/InternationalDeclarations_cleaned.xes'\n",
    "log = pm4py.read_xes(xes_filename)\n",
    "df_ID = pm4py.convert_to_dataframe(log)"
   ]
  },
  {
   "cell_type": "code",
   "execution_count": 7,
   "id": "f5a8d161",
   "metadata": {},
   "outputs": [
    {
     "name": "stdout",
     "output_type": "stream",
     "text": [
      "Frequency of some attributes for International Declarations (ID):\n",
      "\n",
      "org:resource\n",
      "STAFF MEMBER    39359\n",
      "SYSTEM           8686\n",
      "Name: count, dtype: int64\n",
      "\n",
      " org:role\n",
      "EMPLOYEE          19633\n",
      "UNDEFINED          8686\n",
      "ADMINISTRATION     8605\n",
      "SUPERVISOR         8452\n",
      "BUDGET OWNER       2669\n",
      "Name: count, dtype: int64\n",
      "\n",
      " case:Permit ProjectNumber\n",
      "UNKNOWN          17871\n",
      "project 426       2785\n",
      "project 3442       275\n",
      "project 636        274\n",
      "project 1185       254\n",
      "                 ...  \n",
      "project 74087        8\n",
      "project 23529        8\n",
      "project 83403        8\n",
      "project 79695        8\n",
      "project 13212        8\n",
      "Name: count, Length: 708, dtype: int64\n"
     ]
    }
   ],
   "source": [
    "# Frequency of some attributes for International Declarations (ID)\n",
    "print(\"Frequency of some attributes for International Declarations (ID):\\n\")\n",
    "\n",
    "resource_counts = df_ID['org:resource'].value_counts()\n",
    "print(resource_counts)\n",
    "\n",
    "role_counts = df_ID['org:role'].value_counts()\n",
    "print(\"\\n\",role_counts)\n",
    "\n",
    "project_counts = df_ID['case:Permit ProjectNumber'].value_counts()\n",
    "print(\"\\n\",project_counts)"
   ]
  },
  {
   "cell_type": "code",
   "execution_count": 8,
   "id": "d7d22cc2",
   "metadata": {},
   "outputs": [
    {
     "data": {
      "application/vnd.jupyter.widget-view+json": {
       "model_id": "899437c339e343b8b97a0fa8394dce7c",
       "version_major": 2,
       "version_minor": 0
      },
      "text/plain": [
       "parsing log, completed traces ::   0%|          | 0/4833 [00:00<?, ?it/s]"
      ]
     },
     "metadata": {},
     "output_type": "display_data"
    }
   ],
   "source": [
    "# Load the XES file and convert it to a DataFrame\n",
    "xes_filename = '../datasets_cleaned/PermitLog_cleaned.xes'\n",
    "log = pm4py.read_xes(xes_filename)\n",
    "df_PL = pm4py.convert_to_dataframe(log)"
   ]
  },
  {
   "cell_type": "code",
   "execution_count": 9,
   "id": "09be87b9",
   "metadata": {},
   "outputs": [
    {
     "name": "stdout",
     "output_type": "stream",
     "text": [
      "Frequency of some attributes for Permit Log (PL):\n",
      "\n",
      "org:resource\n",
      "STAFF MEMBER    42294\n",
      "SYSTEM          10957\n",
      "Name: count, dtype: int64\n",
      "\n",
      " org:role\n",
      "EMPLOYEE          21067\n",
      "UNDEFINED         10957\n",
      "SUPERVISOR         9391\n",
      "ADMINISTRATION     9387\n",
      "BUDGET OWNER       2449\n",
      "Name: count, dtype: int64\n",
      "\n",
      " case:ProjectNumber\n",
      "UNKNOWN          22493\n",
      "project 3442       391\n",
      "project 1400       314\n",
      "project 636        300\n",
      "project 3318       290\n",
      "                 ...  \n",
      "project 13393        5\n",
      "project 26493        5\n",
      "project 2330         5\n",
      "project 42018        5\n",
      "project 14066        5\n",
      "Name: count, Length: 731, dtype: int64\n"
     ]
    }
   ],
   "source": [
    "# Frequency of some attributes for Permit Log (PL)\n",
    "print(\"Frequency of some attributes for Permit Log (PL):\\n\")\n",
    "\n",
    "resource_counts = df_PL['org:resource'].value_counts()\n",
    "print(resource_counts)\n",
    "\n",
    "role_counts = df_PL['org:role'].value_counts()\n",
    "print(\"\\n\",role_counts)\n",
    "\n",
    "project_counts = df_PL['case:ProjectNumber'].value_counts()\n",
    "print(\"\\n\",project_counts)"
   ]
  },
  {
   "cell_type": "code",
   "execution_count": 10,
   "id": "5cdd3f2f",
   "metadata": {},
   "outputs": [
    {
     "data": {
      "application/vnd.jupyter.widget-view+json": {
       "model_id": "b3ca7afdd5414969bd6362342ff9ced4",
       "version_major": 2,
       "version_minor": 0
      },
      "text/plain": [
       "parsing log, completed traces ::   0%|          | 0/9403 [00:00<?, ?it/s]"
      ]
     },
     "metadata": {},
     "output_type": "display_data"
    }
   ],
   "source": [
    "# Load the XES file and convert it to a DataFrame\n",
    "xes_filename = '../datasets_cleaned/DomesticDeclarations_cleaned.xes'\n",
    "log = pm4py.read_xes(xes_filename)\n",
    "df_DD = pm4py.convert_to_dataframe(log)"
   ]
  },
  {
   "cell_type": "code",
   "execution_count": 11,
   "id": "0428e00d",
   "metadata": {},
   "outputs": [
    {
     "name": "stdout",
     "output_type": "stream",
     "text": [
      "Frequency of some attributes for Domestic Declarations (DD):\n",
      "\n",
      "org:resource\n",
      "STAFF MEMBER    42294\n",
      "SYSTEM          10957\n",
      "Name: count, dtype: int64\n",
      "\n",
      " org:role\n",
      "EMPLOYEE          21067\n",
      "UNDEFINED         10957\n",
      "SUPERVISOR         9391\n",
      "ADMINISTRATION     9387\n",
      "BUDGET OWNER       2449\n",
      "Name: count, dtype: int64\n"
     ]
    }
   ],
   "source": [
    "# Frequency of some attributes for Domestic Declarations (DD)\n",
    "print(\"Frequency of some attributes for Domestic Declarations (DD):\\n\")\n",
    "\n",
    "resource_counts = df_PL['org:resource'].value_counts()\n",
    "print(resource_counts)\n",
    "\n",
    "role_counts = df_PL['org:role'].value_counts()\n",
    "print(\"\\n\",role_counts)"
   ]
  },
  {
   "cell_type": "code",
   "execution_count": null,
   "id": "d40f3bd5",
   "metadata": {},
   "outputs": [],
   "source": [
    "# Map of roles to numeric values\n",
    "role_to_numeric_map = {\n",
    "    'UNDEFINED': 0,\n",
    "    'EMPLOYEE': 1,\n",
    "    'SUPERVISOR': 2,\n",
    "    'ADMINISTRATION': 3,\n",
    "    'BUDGET OWNER': 4,\n",
    "    'DIRECTOR': 5,\n",
    "    'PRE_APPROVER': 6,\n",
    "}\n",
    "\n",
    "# Function to create a numeric role column in the DataFrame\n",
    "def create_numeric_role_column(df):\n",
    "    \n",
    "    # Work on a copy of the DataFrame to avoid problems\n",
    "    df_copy = df.copy()\n",
    "    \n",
    "    # Default value for org_role_numeric\n",
    "    df_copy.loc[:, 'org_role_numeric'] = -1\n",
    "\n",
    "    # Map the roles to numeric values\n",
    "    df_copy.loc[df_copy['org:role'].isin(role_to_numeric_map.keys()), 'org_role_numeric'] = df_copy['org:role'].map(role_to_numeric_map)\n",
    "\n",
    "    return df_copy"
   ]
  },
  {
   "cell_type": "code",
   "execution_count": 13,
   "id": "6ca2bba1",
   "metadata": {},
   "outputs": [
    {
     "name": "stdout",
     "output_type": "stream",
     "text": [
      "Unmapped values in Domestic Declarations: 0 rows\n",
      "Unmapped values in International Declarations: 0 rows\n",
      "Unmapped values in Request For Payments: 0 rows\n",
      "Unmapped values in Prepaid Travel Cost: 0 rows\n",
      "Unmapped values in Permit Log: 0 rows\n"
     ]
    }
   ],
   "source": [
    "# Apply the function to all the DataFrames\n",
    "df_DD = create_numeric_role_column(df_DD)\n",
    "df_ID = create_numeric_role_column(df_ID)\n",
    "df_RFP = create_numeric_role_column(df_RFP)\n",
    "df_PTC = create_numeric_role_column(df_PTC)\n",
    "df_PL = create_numeric_role_column(df_PL)\n",
    "\n",
    "# Verify if there are any unmapped roles:\n",
    "print(f\"Unmapped values in Domestic Declarations: {df_DD[df_DD['org_role_numeric'] == -1].shape[0]} rows\")\n",
    "print(f\"Unmapped values in International Declarations: {df_ID[df_ID['org_role_numeric'] == -1].shape[0]} rows\")\n",
    "print(f\"Unmapped values in Request For Payments: {df_RFP[df_RFP['org_role_numeric'] == -1].shape[0]} rows\")\n",
    "print(f\"Unmapped values in Prepaid Travel Cost: {df_PTC[df_PTC['org_role_numeric'] == -1].shape[0]} rows\")\n",
    "print(f\"Unmapped values in Permit Log: {df_PL[df_PL['org_role_numeric'] == -1].shape[0]} rows\")"
   ]
  },
  {
   "cell_type": "code",
   "execution_count": 14,
   "id": "a37205fa",
   "metadata": {},
   "outputs": [
    {
     "data": {
      "text/plain": [
       "'\\n# Domestic Declarations\\nlog = pm4py.convert_to_event_log(df_DD,\\n                                 case_id_key=\\'case:id\\',\\n                                 activity_key=\\'concept:name\\',\\n                                 timestamp_key=\\'time:timestamp\\')\\npm4py.write_xes(log, \"DomesticDeclarations_segmented.xes\")\\n\\n# International Declarations\\nlog = pm4py.convert_to_event_log(df_ID,\\n                                 case_id_key=\\'case:id\\',\\n                                 activity_key=\\'concept:name\\',\\n                                 timestamp_key=\\'time:timestamp\\')\\npm4py.write_xes(log, \"InternationalDeclarations_segmented.xes\")\\n\\n# Request For Payments\\nlog = pm4py.convert_to_event_log(df_RFP,\\n                                 case_id_key=\\'case:id\\',\\n                                 activity_key=\\'concept:name\\',\\n                                 timestamp_key=\\'time:timestamp\\')\\npm4py.write_xes(log, \"RequestForPayments_segmented.xes\")\\n\\n# Prepaid Travel Cost\\nlog = pm4py.convert_to_event_log(df_PTC,\\n                                 case_id_key=\\'case:id\\',\\n                                 activity_key=\\'concept:name\\',\\n                                 timestamp_key=\\'time:timestamp\\')\\npm4py.write_xes(log, \"PrepaidTravelCost_segmented.xes\")\\n\\n# Permit Log\\nlog = pm4py.convert_to_event_log(df_PL,\\n                                 case_id_key=\\'case:id\\',\\n                                 activity_key=\\'concept:name\\',\\n                                 timestamp_key=\\'time:timestamp\\')\\npm4py.write_xes(log, \"PermitLog_segmented.xes\")\\n\\n'"
      ]
     },
     "execution_count": 14,
     "metadata": {},
     "output_type": "execute_result"
    }
   ],
   "source": [
    "# Export the cleaned and segmented DataFrames to an XES file\n",
    "\n",
    "\"\"\"\n",
    "# Domestic Declarations\n",
    "log = pm4py.convert_to_event_log(df_DD,\n",
    "                                 case_id_key='case:id',\n",
    "                                 activity_key='concept:name',\n",
    "                                 timestamp_key='time:timestamp')\n",
    "pm4py.write_xes(log, \"DomesticDeclarations_segmented.xes\")\n",
    "\n",
    "# International Declarations\n",
    "log = pm4py.convert_to_event_log(df_ID,\n",
    "                                 case_id_key='case:id',\n",
    "                                 activity_key='concept:name',\n",
    "                                 timestamp_key='time:timestamp')\n",
    "pm4py.write_xes(log, \"InternationalDeclarations_segmented.xes\")\n",
    "\n",
    "# Request For Payments\n",
    "log = pm4py.convert_to_event_log(df_RFP,\n",
    "                                 case_id_key='case:id',\n",
    "                                 activity_key='concept:name',\n",
    "                                 timestamp_key='time:timestamp')\n",
    "pm4py.write_xes(log, \"RequestForPayments_segmented.xes\")\n",
    "\n",
    "# Prepaid Travel Cost\n",
    "log = pm4py.convert_to_event_log(df_PTC,\n",
    "                                 case_id_key='case:id',\n",
    "                                 activity_key='concept:name',\n",
    "                                 timestamp_key='time:timestamp')\n",
    "pm4py.write_xes(log, \"PrepaidTravelCost_segmented.xes\")\n",
    "\n",
    "# Permit Log\n",
    "log = pm4py.convert_to_event_log(df_PL,\n",
    "                                 case_id_key='case:id',\n",
    "                                 activity_key='concept:name',\n",
    "                                 timestamp_key='time:timestamp')\n",
    "pm4py.write_xes(log, \"PermitLog_segmented.xes\")\n",
    "\n",
    "\"\"\"\n"
   ]
  }
 ],
 "metadata": {
  "kernelspec": {
   "display_name": "Python 3",
   "language": "python",
   "name": "python3"
  },
  "language_info": {
   "codemirror_mode": {
    "name": "ipython",
    "version": 3
   },
   "file_extension": ".py",
   "mimetype": "text/x-python",
   "name": "python",
   "nbconvert_exporter": "python",
   "pygments_lexer": "ipython3",
   "version": "3.12.4"
  }
 },
 "nbformat": 4,
 "nbformat_minor": 5
}
