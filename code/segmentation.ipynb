{
 "cells": [
  {
   "cell_type": "markdown",
   "id": "75bb5409",
   "metadata": {},
   "source": [
    "# Segmentation of datasets"
   ]
  },
  {
   "cell_type": "code",
   "execution_count": null,
   "id": "bee92eda",
   "metadata": {},
   "outputs": [],
   "source": [
    "import pm4py"
   ]
  },
  {
   "cell_type": "code",
   "execution_count": null,
   "id": "8bbf442d",
   "metadata": {},
   "outputs": [],
   "source": [
    "# Load the XES file and convert it to a DataFrame\n",
    "xes_filename = '../datasets_cleaned/PrepaidTravelCost_cleaned.xes'\n",
    "log = pm4py.read_xes(xes_filename)\n",
    "df_PTC = pm4py.convert_to_dataframe(log)"
   ]
  },
  {
   "cell_type": "code",
   "execution_count": null,
   "id": "4afb5584",
   "metadata": {},
   "outputs": [],
   "source": [
    "# Frequency of some attributes for Prepaid Travel Cost (PTC)\n",
    "print(\"Frequency of some attributes for Prepaid Travel Cost (PTC):\\n\")\n",
    "\n",
    "resource_counts = df_PTC['org:resource'].value_counts()\n",
    "print(resource_counts)\n",
    "\n",
    "role_counts = df_PTC['org:role'].value_counts()\n",
    "print(\"\\n\",role_counts)\n",
    "\n",
    "project_counts = df_PTC['case:Project'].value_counts()\n",
    "print(\"\\n\",project_counts)"
   ]
  },
  {
   "cell_type": "code",
   "execution_count": null,
   "id": "5791f3aa",
   "metadata": {},
   "outputs": [],
   "source": [
    "# Load the XES file and convert it to a DataFrame\n",
    "xes_filename = '../datasets_cleaned/RequestForPayments_cleaned.xes'\n",
    "log = pm4py.read_xes(xes_filename)\n",
    "df_RFP = pm4py.convert_to_dataframe(log)"
   ]
  },
  {
   "cell_type": "code",
   "execution_count": null,
   "id": "30b7a9cf",
   "metadata": {},
   "outputs": [],
   "source": [
    "# Frequency of some attributes for Request For Payments (RFP)\n",
    "print(\"Frequency of some attributes for Request For Payments (RFP):\\n\")\n",
    "\n",
    "resource_counts = df_RFP['org:resource'].value_counts()\n",
    "print(resource_counts)\n",
    "\n",
    "role_counts = df_RFP['org:role'].value_counts()\n",
    "print(\"\\n\",role_counts)\n",
    "\n",
    "project_counts = df_RFP['case:Project'].value_counts()\n",
    "print(\"\\n\",project_counts)"
   ]
  },
  {
   "cell_type": "code",
   "execution_count": null,
   "id": "f2a78407",
   "metadata": {},
   "outputs": [],
   "source": [
    "# Load the XES file and convert it to a DataFrame\n",
    "xes_filename = '../datasets_cleaned/InternationalDeclarations_cleaned.xes'\n",
    "log = pm4py.read_xes(xes_filename)\n",
    "df_ID = pm4py.convert_to_dataframe(log)"
   ]
  },
  {
   "cell_type": "code",
   "execution_count": null,
   "id": "f5a8d161",
   "metadata": {},
   "outputs": [],
   "source": [
    "# Frequency of some attributes for International Declarations (ID)\n",
    "print(\"Frequency of some attributes for International Declarations (ID):\\n\")\n",
    "\n",
    "resource_counts = df_ID['org:resource'].value_counts()\n",
    "print(resource_counts)\n",
    "\n",
    "role_counts = df_ID['org:role'].value_counts()\n",
    "print(\"\\n\",role_counts)\n",
    "\n",
    "project_counts = df_ID['case:Permit ProjectNumber'].value_counts()\n",
    "print(\"\\n\",project_counts)"
   ]
  },
  {
   "cell_type": "code",
   "execution_count": null,
   "id": "d7d22cc2",
   "metadata": {},
   "outputs": [],
   "source": [
    "# Load the XES file and convert it to a DataFrame\n",
    "xes_filename = '../datasets_cleaned/PermitLog_cleaned.xes'\n",
    "log = pm4py.read_xes(xes_filename)\n",
    "df_PL = pm4py.convert_to_dataframe(log)"
   ]
  },
  {
   "cell_type": "code",
   "execution_count": null,
   "id": "09be87b9",
   "metadata": {},
   "outputs": [],
   "source": [
    "# Frequency of some attributes for Permit Log (PL)\n",
    "print(\"Frequency of some attributes for Permit Log (PL):\\n\")\n",
    "\n",
    "resource_counts = df_PL['org:resource'].value_counts()\n",
    "print(resource_counts)\n",
    "\n",
    "role_counts = df_PL['org:role'].value_counts()\n",
    "print(\"\\n\",role_counts)\n",
    "\n",
    "project_counts = df_PL['case:ProjectNumber'].value_counts()\n",
    "print(\"\\n\",project_counts)"
   ]
  },
  {
   "cell_type": "code",
   "execution_count": null,
   "id": "5cdd3f2f",
   "metadata": {},
   "outputs": [],
   "source": [
    "# Load the XES file and convert it to a DataFrame\n",
    "xes_filename = '../datasets_cleaned/DomesticDeclarations_cleaned.xes'\n",
    "log = pm4py.read_xes(xes_filename)\n",
    "df_DD = pm4py.convert_to_dataframe(log)"
   ]
  },
  {
   "cell_type": "code",
   "execution_count": null,
   "id": "0428e00d",
   "metadata": {},
   "outputs": [],
   "source": [
    "# Frequency of some attributes for Domestic Declarations (DD)\n",
    "print(\"Frequency of some attributes for Domestic Declarations (DD):\\n\")\n",
    "\n",
    "resource_counts = df_PL['org:resource'].value_counts()\n",
    "print(resource_counts)\n",
    "\n",
    "role_counts = df_PL['org:role'].value_counts()\n",
    "print(\"\\n\",role_counts)"
   ]
  },
  {
   "cell_type": "code",
   "execution_count": null,
   "id": "d40f3bd5",
   "metadata": {},
   "outputs": [],
   "source": [
    "# Map of roles to numeric values\n",
    "role_to_numeric_map = {\n",
    "    'UNDEFINED': 0,\n",
    "    'EMPLOYEE': 1,\n",
    "    'SUPERVISOR': 2,\n",
    "    'ADMINISTRATION': 3,\n",
    "    'BUDGET OWNER': 4,\n",
    "    'DIRECTOR': 5,\n",
    "    'PRE_APPROVER': 6,\n",
    "}\n",
    "\n",
    "# Function to create a numeric role column in the DataFrame\n",
    "def create_numeric_role_column(df):\n",
    "    \n",
    "    # Work on a copy of the DataFrame to avoid problems\n",
    "    df_copy = df.copy()\n",
    "    \n",
    "    # Default value for org_role_numeric\n",
    "    df_copy.loc[:, 'org_role_numeric'] = -1\n",
    "\n",
    "    # Map the roles to numeric values\n",
    "    df_copy.loc[df_copy['org:role'].isin(role_to_numeric_map.keys()), 'org_role_numeric'] = df_copy['org:role'].map(role_to_numeric_map)\n",
    "\n",
    "    return df_copy"
   ]
  },
  {
   "cell_type": "code",
   "execution_count": null,
   "id": "6ca2bba1",
   "metadata": {},
   "outputs": [],
   "source": [
    "# Apply the function to all the DataFrames\n",
    "df_DD = create_numeric_role_column(df_DD)\n",
    "df_ID = create_numeric_role_column(df_ID)\n",
    "df_RFP = create_numeric_role_column(df_RFP)\n",
    "df_PTC = create_numeric_role_column(df_PTC)\n",
    "df_PL = create_numeric_role_column(df_PL)\n",
    "\n",
    "# Verify if there are any unmapped roles:\n",
    "print(f\"Unmapped values in Domestic Declarations: {df_DD[df_DD['org_role_numeric'] == -1].shape[0]} rows\")\n",
    "print(f\"Unmapped values in International Declarations: {df_ID[df_ID['org_role_numeric'] == -1].shape[0]} rows\")\n",
    "print(f\"Unmapped values in Request For Payments: {df_RFP[df_RFP['org_role_numeric'] == -1].shape[0]} rows\")\n",
    "print(f\"Unmapped values in Prepaid Travel Cost: {df_PTC[df_PTC['org_role_numeric'] == -1].shape[0]} rows\")\n",
    "print(f\"Unmapped values in Permit Log: {df_PL[df_PL['org_role_numeric'] == -1].shape[0]} rows\")"
   ]
  },
  {
   "cell_type": "code",
   "execution_count": null,
   "id": "a37205fa",
   "metadata": {},
   "outputs": [],
   "source": [
    "# Export the cleaned and segmented DataFrames to an XES file\n",
    "\n",
    "\"\"\"\n",
    "# Domestic Declarations\n",
    "log = pm4py.convert_to_event_log(df_DD,\n",
    "                                 case_id_key='case:id',\n",
    "                                 activity_key='concept:name',\n",
    "                                 timestamp_key='time:timestamp')\n",
    "pm4py.write_xes(log, \"DomesticDeclarations_segmented.xes\")\n",
    "\n",
    "# International Declarations\n",
    "log = pm4py.convert_to_event_log(df_ID,\n",
    "                                 case_id_key='case:id',\n",
    "                                 activity_key='concept:name',\n",
    "                                 timestamp_key='time:timestamp')\n",
    "pm4py.write_xes(log, \"InternationalDeclarations_segmented.xes\")\n",
    "\n",
    "# Request For Payments\n",
    "log = pm4py.convert_to_event_log(df_RFP,\n",
    "                                 case_id_key='case:id',\n",
    "                                 activity_key='concept:name',\n",
    "                                 timestamp_key='time:timestamp')\n",
    "pm4py.write_xes(log, \"RequestForPayments_segmented.xes\")\n",
    "\n",
    "# Prepaid Travel Cost\n",
    "log = pm4py.convert_to_event_log(df_PTC,\n",
    "                                 case_id_key='case:id',\n",
    "                                 activity_key='concept:name',\n",
    "                                 timestamp_key='time:timestamp')\n",
    "pm4py.write_xes(log, \"PrepaidTravelCost_segmented.xes\")\n",
    "\n",
    "# Permit Log\n",
    "log = pm4py.convert_to_event_log(df_PL,\n",
    "                                 case_id_key='case:id',\n",
    "                                 activity_key='concept:name',\n",
    "                                 timestamp_key='time:timestamp')\n",
    "pm4py.write_xes(log, \"PermitLog_segmented.xes\")\n",
    "\n",
    "\"\"\"\n"
   ]
  }
 ],
 "metadata": {
  "kernelspec": {
   "display_name": "Python 3",
   "language": "python",
   "name": "python3"
  },
  "language_info": {
   "codemirror_mode": {
    "name": "ipython",
    "version": 3
   },
   "file_extension": ".py",
   "mimetype": "text/x-python",
   "name": "python",
   "nbconvert_exporter": "python",
   "pygments_lexer": "ipython3",
   "version": "3.12.4"
  }
 },
 "nbformat": 4,
 "nbformat_minor": 5
}
