{
  "cells": [
    {
      "cell_type": "markdown",
      "metadata": {},
      "source": [
        "# Cleaning of RequestForPayment.xes"
      ]
    },
    {
      "cell_type": "code",
      "execution_count": null,
      "metadata": {
        "colab": {
          "base_uri": "https://localhost:8080/"
        },
        "id": "wXqHDHb1v1SY",
        "outputId": "0cf4e6b7-5371-4302-eb26-efb4c0d8e3f2"
      },
      "outputs": [],
      "source": [
        "import pm4py\n",
        "import pandas as pd\n",
        "import matplotlib.pyplot as plt"
      ]
    },
    {
      "cell_type": "code",
      "execution_count": null,
      "metadata": {},
      "outputs": [],
      "source": [
        "# Load the XES file and convert it to a DataFrame\n",
        "xes_filename = '../datasets/RequestForPayment.xes'\n",
        "log = pm4py.read_xes(xes_filename)\n",
        "df = pm4py.convert_to_dataframe(log)\n",
        "\n",
        "df"
      ]
    },
    {
      "cell_type": "code",
      "execution_count": null,
      "metadata": {},
      "outputs": [],
      "source": [
        "# Rename the column\n",
        "df = df.rename(columns={'case:Rfp_id': 'case:id'})\n",
        "\n",
        "# Convert the 'case:id' column to string type\n",
        "df['case:id'] = df['case:id'].astype(str)"
      ]
    },
    {
      "cell_type": "code",
      "execution_count": null,
      "metadata": {},
      "outputs": [],
      "source": [
        "# Display the DataFrame information\n",
        "df.info()"
      ]
    },
    {
      "cell_type": "code",
      "execution_count": null,
      "metadata": {},
      "outputs": [],
      "source": [
        "# List the columns in the DataFrame\n",
        "df.columns"
      ]
    },
    {
      "cell_type": "code",
      "execution_count": null,
      "metadata": {},
      "outputs": [],
      "source": [
        "# Compute frequency of activities\n",
        "activity_counts = df[\"concept:name\"].value_counts()\n",
        "print(\"Frequency of Activities:\\n\", activity_counts)\n",
        "print(type(activity_counts))"
      ]
    },
    {
      "cell_type": "code",
      "execution_count": null,
      "metadata": {},
      "outputs": [],
      "source": [
        "#Count unique case:id values\n",
        "unique_case_ids = df['case:id'].nunique()\n",
        "\n",
        "print(f\"Number of unique case id: {unique_case_ids}\")"
      ]
    },
    {
      "cell_type": "code",
      "execution_count": null,
      "metadata": {},
      "outputs": [],
      "source": [
        "# Check for NaN values across all columns\n",
        "nan_counts = df.isnull().sum()\n",
        "\n",
        "# Display only columns that have NaN values\n",
        "print(\"Count of NaN values per column:\")\n",
        "print(nan_counts[nan_counts > 0]) \n",
        "\n",
        "if nan_counts.sum() == 0:\n",
        "    print(\"\\nNo NaN values found in the DataFrame.\")\n",
        "else:\n",
        "    print(f\"\\nTotal NaN values found: {nan_counts.sum()}\")"
      ]
    },
    {
      "cell_type": "code",
      "execution_count": null,
      "metadata": {},
      "outputs": [],
      "source": [
        "# Count the unknown activities\n",
        "unknwon_count = df['case:Activity'].astype(str).str.contains('UNKNOWN').sum()\n",
        "\n",
        "# Calculate the percentage of unknown activities\n",
        "percentage_unknown = (unknwon_count / len(df)) * 100\n",
        "\n",
        "print(f\"Found {unknwon_count} UNKNOWN actvities, {percentage_unknown:.2f}% of total rows\")"
      ]
    },
    {
      "cell_type": "code",
      "execution_count": null,
      "metadata": {},
      "outputs": [],
      "source": [
        "# Get counts of each unique value in 'case:Activity'\n",
        "activity_counts = df['case:Activity'].value_counts()\n",
        "\n",
        "# Get percentages of each unique value in 'case:Activity'\n",
        "activity_percentages = df['case:Activity'].value_counts(normalize=True) * 100\n",
        "\n",
        "# Combine them\n",
        "combined_activity_info = pd.DataFrame({\n",
        "    'Count': activity_counts,\n",
        "    'Percentage': activity_percentages\n",
        "})\n",
        "\n",
        "print(\"Counts and Percentages of each unique value in 'case:Activity':\")\n",
        "print(combined_activity_info)"
      ]
    },
    {
      "cell_type": "code",
      "execution_count": null,
      "metadata": {},
      "outputs": [],
      "source": [
        "# Get and display the variants\n",
        "\n",
        "variants = pm4py.get_variants(\n",
        "    df,\n",
        "    activity_key='concept:name',\n",
        "    case_id_key='case:id',\n",
        "    timestamp_key='time:timestamp'\n",
        ")\n",
        "\n",
        "print(variants)"
      ]
    },
    {
      "cell_type": "code",
      "execution_count": null,
      "metadata": {},
      "outputs": [],
      "source": [
        "# Also for variants, but provides a batter overview of the variants and their frequencies\n",
        "\n",
        "variants_df = pm4py.get_variants_paths_duration(\n",
        "    df,\n",
        "    activity_key='concept:name',\n",
        "    case_id_key='case:id',\n",
        "    timestamp_key='time:timestamp'\n",
        ")\n",
        "\n",
        "variants_df"
      ]
    },
    {
      "cell_type": "code",
      "execution_count": null,
      "metadata": {},
      "outputs": [],
      "source": [
        "# Dataframe with sorting of the variants\n",
        "variants = variants_df.groupby('@@variant_column').agg({'@@variant_count': 'first'}).reset_index()\n",
        "\n",
        "# Sorting the DataFrame by '@@variant_count' column in descending order\n",
        "variants = variants.sort_values(by='@@variant_count', ascending=False).reset_index(drop=True) # This resets the index after sorting. drop=True ensures the old index is not added as a new column.\n",
        "\n",
        "variants"
      ]
    },
    {
      "cell_type": "code",
      "execution_count": null,
      "metadata": {},
      "outputs": [],
      "source": [
        "# Create a variable for the distribution \n",
        "distribution = variants['@@variant_count']\n",
        "\n",
        "# Raw Frequency Plot (Linear Scale)\n",
        "plt.figure(figsize=(8, 5))\n",
        "plt.bar(range(1, len(distribution)+1), distribution, color='red', alpha=0.7)\n",
        "plt.title(\"Actual Variant Frequencies (Linear Scale)\")\n",
        "plt.xlabel(\"Variant Rank (sorted by frequency)\")\n",
        "plt.ylabel(\"Frequency\")\n",
        "plt.grid(True, axis='y', ls=\"--\", alpha=0.5)\n",
        "plt.show()"
      ]
    },
    {
      "cell_type": "code",
      "execution_count": null,
      "metadata": {},
      "outputs": [],
      "source": [
        "# Log-Log Plot\n",
        "plt.figure(figsize=(8, 5))\n",
        "plt.loglog(range(1, len(distribution)+1), distribution, 'bo', alpha=0.7)\n",
        "plt.title(\"Variant Frequencies (Log-Log Scale)\")\n",
        "plt.xlabel(\"Variant Rank\")\n",
        "plt.ylabel(\"Frequency\")\n",
        "plt.grid(True, which=\"both\", ls=\"--\", alpha=0.5)\n",
        "plt.show()"
      ]
    },
    {
      "cell_type": "code",
      "execution_count": null,
      "metadata": {},
      "outputs": [],
      "source": [
        "# Display the top N variants\n",
        "top_n = 5\n",
        "print(top_n, \" more frequent variants\")\n",
        "print(variants.head(top_n))\n",
        "\n",
        "# Evaluate the coverage of the top N variants\n",
        "total_cases = variants['@@variant_count'].sum()\n",
        "cases_in_top_n = variants['@@variant_count'].head(top_n).sum()\n",
        "percentage_coverage = (cases_in_top_n / total_cases) * 100\n",
        "print(f\"\\nTop {top_n} variants cover {percentage_coverage:.2f}% of total cases\")"
      ]
    },
    {
      "cell_type": "code",
      "execution_count": null,
      "metadata": {},
      "outputs": [],
      "source": [
        "# Top k variants\n",
        "\n",
        "filtered_df = pm4py.filter_variants_top_k(\n",
        "    df,\n",
        "    5,\n",
        "    activity_key='concept:name',\n",
        "    case_id_key='case:id',\n",
        "    timestamp_key='time:timestamp'\n",
        ")\n",
        "\n",
        "filtered_df"
      ]
    },
    {
      "cell_type": "code",
      "execution_count": null,
      "metadata": {},
      "outputs": [],
      "source": [
        "# Get original counts\n",
        "original_rows = len(df)\n",
        "original_cases = df[\"case:id\"].nunique()\n",
        "\n",
        "# Get filtered counts\n",
        "filtered_rows = len(filtered_df)\n",
        "filtered_cases = filtered_df[\"case:id\"].nunique()\n",
        "\n",
        "# Calculate the difference\n",
        "removed_rows = original_rows - filtered_rows\n",
        "removed_cases = original_cases - filtered_cases\n",
        "\n",
        "print(f\"Original DataFrame: {original_rows} rows, {original_cases} unique case IDs\")\n",
        "print(f\"Filtered DataFrame (Top K variants): {filtered_rows} rows, {filtered_cases} unique case IDs\")\n",
        "print(f\"\\nRemoved: {removed_rows} rows\")\n",
        "print(f\"Removed: {removed_cases} unique case IDs\")\n",
        "\n",
        "print(f\"\\nPercentage of rows removed: {(removed_rows / original_rows) * 100:.2f}%\")\n",
        "print(f\"Percentage of cases removed: {(removed_cases / original_cases) * 100:.2f}%\")"
      ]
    },
    {
      "cell_type": "code",
      "execution_count": null,
      "metadata": {},
      "outputs": [],
      "source": [
        "# Create a temporary column with the variant tuple for each event's case\n",
        "filtered_df['_temp_variant_tuple'] = filtered_df.sort_values(by='time:timestamp').groupby('case:id')['concept:name'].transform(lambda x: tuple(x))\n",
        "\n",
        "# Get unique variant tuples and assign them a number\n",
        "unique_variant_tuples = filtered_df['_temp_variant_tuple'].unique()\n",
        "variant_to_number = {variant_tuple: i for i, variant_tuple in enumerate(unique_variant_tuples, 1)}\n",
        "\n",
        "# Map the temporary variant tuple column to the new 'variant_number' column\n",
        "filtered_df['variant_number'] = filtered_df['_temp_variant_tuple'].map(variant_to_number)\n",
        "\n",
        "# Drop the temporary column\n",
        "filtered_df = filtered_df.drop(columns=['_temp_variant_tuple'])\n",
        "\n",
        "# Display the number of unique variant numbers assigned and their counts\n",
        "print(f\"\\nNumber of unique variant numbers assigned: {filtered_df['variant_number'].nunique()}\")\n",
        "print(\"Counts of each variant number:\")\n",
        "print(filtered_df['variant_number'].value_counts().sort_index())\n",
        "\n",
        "filtered_df"
      ]
    },
    {
      "cell_type": "code",
      "execution_count": null,
      "metadata": {},
      "outputs": [],
      "source": [
        "# Add a new DataFrame to store the durations of each case\n",
        "filtered_df_dur = filtered_df.copy()\n",
        "\n",
        "# Min and Max Timestamps for Case Durations\n",
        "min_timestamps = filtered_df_dur.groupby('case:id')['time:timestamp'].min()\n",
        "max_timestamps = filtered_df_dur.groupby('case:id')['time:timestamp'].max()\n",
        "\n",
        "# Case Durations as Timedelta and convert to seconds\n",
        "case_durations_timedelta = max_timestamps - min_timestamps\n",
        "case_durations_seconds = case_durations_timedelta.dt.total_seconds()\n",
        "\n",
        "# Mapping, conversion and new columns\n",
        "filtered_df_dur.loc[:, 'case_duration_seconds'] = filtered_df_dur['case:id'].map(case_durations_seconds)\n",
        "filtered_df_dur.loc[:, 'case_duration_minutes'] = filtered_df_dur['case_duration_seconds'] / 60\n",
        "filtered_df_dur.loc[:, 'case_duration_hours'] = filtered_df_dur['case_duration_seconds'] / 3600\n",
        "filtered_df_dur.loc[:, 'case_duration_days'] = filtered_df_dur['case_duration_seconds'] / (24 * 3600)\n",
        "\n",
        "# Statistics for case durations\n",
        "print(f\"Mean duration (days): {filtered_df_dur['case_duration_days'].mean():.2f}\")\n",
        "print(f\"Median duration (days): {filtered_df_dur['case_duration_days'].median():.2f}\")\n",
        "print(f\"Max duration (days): {filtered_df_dur['case_duration_days'].max():.2f}\")\n",
        "print(f\"Min duration (days): {filtered_df_dur['case_duration_days'].min():.2f}\")\n",
        "print(f\"N° of NaN created: {filtered_df_dur['case_duration_seconds'].isna().sum()}\")"
      ]
    },
    {
      "cell_type": "code",
      "execution_count": null,
      "metadata": {},
      "outputs": [],
      "source": [
        "# Find the number of cases with zero duration\n",
        "zero_duration_cases_count = (filtered_df_dur['case_duration_seconds'] == 0).sum()\n",
        "\n",
        "print(f\"Number of cases with zero duration (seconds): {zero_duration_cases_count}\")"
      ]
    },
    {
      "cell_type": "code",
      "execution_count": null,
      "metadata": {},
      "outputs": [],
      "source": [
        "# Create a copy of the filtered DataFrame for further analysis\n",
        "df_cleaned = filtered_df_dur.copy()"
      ]
    },
    {
      "cell_type": "code",
      "execution_count": null,
      "metadata": {},
      "outputs": [],
      "source": [
        "# Directly Follows Graph (DFG)\n",
        "\n",
        "# Create graph from original DF and visualise it\n",
        "dfg, start_activities, end_activities = pm4py.discover_dfg(df)\n",
        "pm4py.view_dfg(dfg, start_activities, end_activities)\n",
        "\n",
        "# Create graph from filtered DF and visualise it\n",
        "dfg, start_activities, end_activities = pm4py.discover_dfg(df_cleaned)\n",
        "pm4py.view_dfg(dfg, start_activities, end_activities)"
      ]
    },
    {
      "cell_type": "code",
      "execution_count": null,
      "metadata": {},
      "outputs": [],
      "source": [
        "# Heuristic Miner (HM)\n",
        "\n",
        "# Discover the HM-map of the original DF and visualise it\n",
        "map = pm4py.discover_heuristics_net(df)\n",
        "pm4py.view_heuristics_net(map)\n",
        "\n",
        "# Discover the HM-map of the filtered DF and visualise it\n",
        "map = pm4py.discover_heuristics_net(df_cleaned)\n",
        "pm4py.view_heuristics_net(map)"
      ]
    },
    {
      "cell_type": "code",
      "execution_count": null,
      "metadata": {},
      "outputs": [],
      "source": [
        "# Export the cleaned DataFrame to an XES file\n",
        "\n",
        "\"\"\"\n",
        "log_name_for_file = \"RequestForPayments_cleaned.xes\"\n",
        "log = pm4py.convert_to_event_log(df_cleaned,\n",
        "                                 case_id_key='case:id',\n",
        "                                 activity_key='concept:name',\n",
        "                                 timestamp_key='time:timestamp')\n",
        "\n",
        "pm4py.write_xes(log, log_name_for_file)\n",
        "\n",
        "print(f\"Log succesfully exported in: {log_name_for_file}\")\n",
        "\"\"\""
      ]
    }
  ],
  "metadata": {
    "colab": {
      "provenance": []
    },
    "kernelspec": {
      "display_name": "Python 3",
      "name": "python3"
    },
    "language_info": {
      "codemirror_mode": {
        "name": "ipython",
        "version": 3
      },
      "file_extension": ".py",
      "mimetype": "text/x-python",
      "name": "python",
      "nbconvert_exporter": "python",
      "pygments_lexer": "ipython3",
      "version": "3.12.4"
    },
    "widgets": {
      "application/vnd.jupyter.widget-state+json": {
        "15347d19aca246ba9d40311cc183f502": {
          "model_module": "@jupyter-widgets/controls",
          "model_module_version": "1.5.0",
          "model_name": "DescriptionStyleModel",
          "state": {
            "_model_module": "@jupyter-widgets/controls",
            "_model_module_version": "1.5.0",
            "_model_name": "DescriptionStyleModel",
            "_view_count": null,
            "_view_module": "@jupyter-widgets/base",
            "_view_module_version": "1.2.0",
            "_view_name": "StyleView",
            "description_width": ""
          }
        },
        "480b247439d6407eb73359380b4618ec": {
          "model_module": "@jupyter-widgets/base",
          "model_module_version": "1.2.0",
          "model_name": "LayoutModel",
          "state": {
            "_model_module": "@jupyter-widgets/base",
            "_model_module_version": "1.2.0",
            "_model_name": "LayoutModel",
            "_view_count": null,
            "_view_module": "@jupyter-widgets/base",
            "_view_module_version": "1.2.0",
            "_view_name": "LayoutView",
            "align_content": null,
            "align_items": null,
            "align_self": null,
            "border": null,
            "bottom": null,
            "display": null,
            "flex": null,
            "flex_flow": null,
            "grid_area": null,
            "grid_auto_columns": null,
            "grid_auto_flow": null,
            "grid_auto_rows": null,
            "grid_column": null,
            "grid_gap": null,
            "grid_row": null,
            "grid_template_areas": null,
            "grid_template_columns": null,
            "grid_template_rows": null,
            "height": null,
            "justify_content": null,
            "justify_items": null,
            "left": null,
            "margin": null,
            "max_height": null,
            "max_width": null,
            "min_height": null,
            "min_width": null,
            "object_fit": null,
            "object_position": null,
            "order": null,
            "overflow": null,
            "overflow_x": null,
            "overflow_y": null,
            "padding": null,
            "right": null,
            "top": null,
            "visibility": null,
            "width": null
          }
        },
        "5306a5b57ca0487693e9b9efc60f9f56": {
          "model_module": "@jupyter-widgets/controls",
          "model_module_version": "1.5.0",
          "model_name": "ProgressStyleModel",
          "state": {
            "_model_module": "@jupyter-widgets/controls",
            "_model_module_version": "1.5.0",
            "_model_name": "ProgressStyleModel",
            "_view_count": null,
            "_view_module": "@jupyter-widgets/base",
            "_view_module_version": "1.2.0",
            "_view_name": "StyleView",
            "bar_color": null,
            "description_width": ""
          }
        },
        "59db6ecdbec14a5d94949927e0619ac9": {
          "model_module": "@jupyter-widgets/controls",
          "model_module_version": "1.5.0",
          "model_name": "HBoxModel",
          "state": {
            "_dom_classes": [],
            "_model_module": "@jupyter-widgets/controls",
            "_model_module_version": "1.5.0",
            "_model_name": "HBoxModel",
            "_view_count": null,
            "_view_module": "@jupyter-widgets/controls",
            "_view_module_version": "1.5.0",
            "_view_name": "HBoxView",
            "box_style": "",
            "children": [
              "IPY_MODEL_bb4e7ae9695d4f7abb769feb70db19bb",
              "IPY_MODEL_f48ad5a00cdd4201b75faa1c28857f6c",
              "IPY_MODEL_d96e5dc3d38f40e193038e205c235307"
            ],
            "layout": "IPY_MODEL_480b247439d6407eb73359380b4618ec"
          }
        },
        "66ec19323d9f42da9e189d497f93d6ea": {
          "model_module": "@jupyter-widgets/base",
          "model_module_version": "1.2.0",
          "model_name": "LayoutModel",
          "state": {
            "_model_module": "@jupyter-widgets/base",
            "_model_module_version": "1.2.0",
            "_model_name": "LayoutModel",
            "_view_count": null,
            "_view_module": "@jupyter-widgets/base",
            "_view_module_version": "1.2.0",
            "_view_name": "LayoutView",
            "align_content": null,
            "align_items": null,
            "align_self": null,
            "border": null,
            "bottom": null,
            "display": null,
            "flex": null,
            "flex_flow": null,
            "grid_area": null,
            "grid_auto_columns": null,
            "grid_auto_flow": null,
            "grid_auto_rows": null,
            "grid_column": null,
            "grid_gap": null,
            "grid_row": null,
            "grid_template_areas": null,
            "grid_template_columns": null,
            "grid_template_rows": null,
            "height": null,
            "justify_content": null,
            "justify_items": null,
            "left": null,
            "margin": null,
            "max_height": null,
            "max_width": null,
            "min_height": null,
            "min_width": null,
            "object_fit": null,
            "object_position": null,
            "order": null,
            "overflow": null,
            "overflow_x": null,
            "overflow_y": null,
            "padding": null,
            "right": null,
            "top": null,
            "visibility": null,
            "width": null
          }
        },
        "9668d48d076348eb9ebb8b11ba1c919c": {
          "model_module": "@jupyter-widgets/base",
          "model_module_version": "1.2.0",
          "model_name": "LayoutModel",
          "state": {
            "_model_module": "@jupyter-widgets/base",
            "_model_module_version": "1.2.0",
            "_model_name": "LayoutModel",
            "_view_count": null,
            "_view_module": "@jupyter-widgets/base",
            "_view_module_version": "1.2.0",
            "_view_name": "LayoutView",
            "align_content": null,
            "align_items": null,
            "align_self": null,
            "border": null,
            "bottom": null,
            "display": null,
            "flex": null,
            "flex_flow": null,
            "grid_area": null,
            "grid_auto_columns": null,
            "grid_auto_flow": null,
            "grid_auto_rows": null,
            "grid_column": null,
            "grid_gap": null,
            "grid_row": null,
            "grid_template_areas": null,
            "grid_template_columns": null,
            "grid_template_rows": null,
            "height": null,
            "justify_content": null,
            "justify_items": null,
            "left": null,
            "margin": null,
            "max_height": null,
            "max_width": null,
            "min_height": null,
            "min_width": null,
            "object_fit": null,
            "object_position": null,
            "order": null,
            "overflow": null,
            "overflow_x": null,
            "overflow_y": null,
            "padding": null,
            "right": null,
            "top": null,
            "visibility": null,
            "width": null
          }
        },
        "b09ff863a19f42b2bd903ddd023f67b3": {
          "model_module": "@jupyter-widgets/base",
          "model_module_version": "1.2.0",
          "model_name": "LayoutModel",
          "state": {
            "_model_module": "@jupyter-widgets/base",
            "_model_module_version": "1.2.0",
            "_model_name": "LayoutModel",
            "_view_count": null,
            "_view_module": "@jupyter-widgets/base",
            "_view_module_version": "1.2.0",
            "_view_name": "LayoutView",
            "align_content": null,
            "align_items": null,
            "align_self": null,
            "border": null,
            "bottom": null,
            "display": null,
            "flex": null,
            "flex_flow": null,
            "grid_area": null,
            "grid_auto_columns": null,
            "grid_auto_flow": null,
            "grid_auto_rows": null,
            "grid_column": null,
            "grid_gap": null,
            "grid_row": null,
            "grid_template_areas": null,
            "grid_template_columns": null,
            "grid_template_rows": null,
            "height": null,
            "justify_content": null,
            "justify_items": null,
            "left": null,
            "margin": null,
            "max_height": null,
            "max_width": null,
            "min_height": null,
            "min_width": null,
            "object_fit": null,
            "object_position": null,
            "order": null,
            "overflow": null,
            "overflow_x": null,
            "overflow_y": null,
            "padding": null,
            "right": null,
            "top": null,
            "visibility": null,
            "width": null
          }
        },
        "bb4e7ae9695d4f7abb769feb70db19bb": {
          "model_module": "@jupyter-widgets/controls",
          "model_module_version": "1.5.0",
          "model_name": "HTMLModel",
          "state": {
            "_dom_classes": [],
            "_model_module": "@jupyter-widgets/controls",
            "_model_module_version": "1.5.0",
            "_model_name": "HTMLModel",
            "_view_count": null,
            "_view_module": "@jupyter-widgets/controls",
            "_view_module_version": "1.5.0",
            "_view_name": "HTMLView",
            "description": "",
            "description_tooltip": null,
            "layout": "IPY_MODEL_66ec19323d9f42da9e189d497f93d6ea",
            "placeholder": "​",
            "style": "IPY_MODEL_15347d19aca246ba9d40311cc183f502",
            "value": "replaying log with TBR, completed variants :: 100%"
          }
        },
        "d96e5dc3d38f40e193038e205c235307": {
          "model_module": "@jupyter-widgets/controls",
          "model_module_version": "1.5.0",
          "model_name": "HTMLModel",
          "state": {
            "_dom_classes": [],
            "_model_module": "@jupyter-widgets/controls",
            "_model_module_version": "1.5.0",
            "_model_name": "HTMLModel",
            "_view_count": null,
            "_view_module": "@jupyter-widgets/controls",
            "_view_module_version": "1.5.0",
            "_view_name": "HTMLView",
            "description": "",
            "description_tooltip": null,
            "layout": "IPY_MODEL_9668d48d076348eb9ebb8b11ba1c919c",
            "placeholder": "​",
            "style": "IPY_MODEL_def2b46bfff44e28824b08370babf1e3",
            "value": " 15/15 [00:00&lt;00:00, 326.76it/s]"
          }
        },
        "def2b46bfff44e28824b08370babf1e3": {
          "model_module": "@jupyter-widgets/controls",
          "model_module_version": "1.5.0",
          "model_name": "DescriptionStyleModel",
          "state": {
            "_model_module": "@jupyter-widgets/controls",
            "_model_module_version": "1.5.0",
            "_model_name": "DescriptionStyleModel",
            "_view_count": null,
            "_view_module": "@jupyter-widgets/base",
            "_view_module_version": "1.2.0",
            "_view_name": "StyleView",
            "description_width": ""
          }
        },
        "f48ad5a00cdd4201b75faa1c28857f6c": {
          "model_module": "@jupyter-widgets/controls",
          "model_module_version": "1.5.0",
          "model_name": "FloatProgressModel",
          "state": {
            "_dom_classes": [],
            "_model_module": "@jupyter-widgets/controls",
            "_model_module_version": "1.5.0",
            "_model_name": "FloatProgressModel",
            "_view_count": null,
            "_view_module": "@jupyter-widgets/controls",
            "_view_module_version": "1.5.0",
            "_view_name": "ProgressView",
            "bar_style": "success",
            "description": "",
            "description_tooltip": null,
            "layout": "IPY_MODEL_b09ff863a19f42b2bd903ddd023f67b3",
            "max": 15,
            "min": 0,
            "orientation": "horizontal",
            "style": "IPY_MODEL_5306a5b57ca0487693e9b9efc60f9f56",
            "value": 15
          }
        }
      }
    }
  },
  "nbformat": 4,
  "nbformat_minor": 0
}
